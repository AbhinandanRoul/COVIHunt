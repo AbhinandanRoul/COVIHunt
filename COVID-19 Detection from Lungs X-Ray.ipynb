{
 "cells": [
  {
   "cell_type": "code",
   "execution_count": 1,
   "metadata": {
    "_cell_guid": "b1076dfc-b9ad-4769-8c92-a6c4dae69d19",
    "_uuid": "8f2839f25d086af736a60e9eeb907d3b93b6e0e5"
   },
   "outputs": [
    {
     "name": "stderr",
     "output_type": "stream",
     "text": [
      "Using TensorFlow backend.\n"
     ]
    }
   ],
   "source": [
    "import numpy as np\n",
    "import matplotlib.pyplot as plt\n",
    "import tensorflow as tf\n",
    "import keras\n",
    "from keras.layers import *\n",
    "from keras.models import * \n",
    "from keras.preprocessing import image"
   ]
  },
  {
   "cell_type": "code",
   "execution_count": 2,
   "metadata": {
    "_cell_guid": "79c7e3d0-c299-4dcb-8224-4455121ee9b0",
    "_uuid": "d629ff2d2480ee46fbb7e2d37f6b5fab8052498a"
   },
   "outputs": [],
   "source": [
    "# Convolutional Neural Network Model\n",
    "\n",
    "model = Sequential()\n",
    "model.add(Conv2D(32,kernel_size=(3,3),activation='relu',input_shape=(224,224,3)))\n",
    "model.add(Conv2D(64,(3,3),activation='relu'))\n",
    "model.add(MaxPooling2D(pool_size=(2,2)))\n",
    "model.add(Dropout(0.25))\n",
    "\n",
    "model.add(Conv2D(64,(3,3),activation='relu'))\n",
    "model.add(MaxPooling2D(pool_size=(2,2)))\n",
    "model.add(Dropout(0.25))\n",
    "\n",
    "model.add(Conv2D(128,(3,3),activation='relu'))\n",
    "model.add(MaxPooling2D(pool_size=(2,2)))\n",
    "model.add(Dropout(0.25))\n",
    "\n",
    "model.add(Flatten())\n",
    "model.add(Dense(64,activation='relu'))\n",
    "model.add(Dropout(0.5))\n",
    "model.add(Dense(1,activation='sigmoid'))\n",
    "model.compile(loss=keras.losses.binary_crossentropy,optimizer='adam',metrics=['accuracy'])"
   ]
  },
  {
   "cell_type": "code",
   "execution_count": 3,
   "metadata": {},
   "outputs": [
    {
     "name": "stdout",
     "output_type": "stream",
     "text": [
      "Model: \"sequential_1\"\n",
      "_________________________________________________________________\n",
      "Layer (type)                 Output Shape              Param #   \n",
      "=================================================================\n",
      "conv2d_1 (Conv2D)            (None, 222, 222, 32)      896       \n",
      "_________________________________________________________________\n",
      "conv2d_2 (Conv2D)            (None, 220, 220, 64)      18496     \n",
      "_________________________________________________________________\n",
      "max_pooling2d_1 (MaxPooling2 (None, 110, 110, 64)      0         \n",
      "_________________________________________________________________\n",
      "dropout_1 (Dropout)          (None, 110, 110, 64)      0         \n",
      "_________________________________________________________________\n",
      "conv2d_3 (Conv2D)            (None, 108, 108, 64)      36928     \n",
      "_________________________________________________________________\n",
      "max_pooling2d_2 (MaxPooling2 (None, 54, 54, 64)        0         \n",
      "_________________________________________________________________\n",
      "dropout_2 (Dropout)          (None, 54, 54, 64)        0         \n",
      "_________________________________________________________________\n",
      "conv2d_4 (Conv2D)            (None, 52, 52, 128)       73856     \n",
      "_________________________________________________________________\n",
      "max_pooling2d_3 (MaxPooling2 (None, 26, 26, 128)       0         \n",
      "_________________________________________________________________\n",
      "dropout_3 (Dropout)          (None, 26, 26, 128)       0         \n",
      "_________________________________________________________________\n",
      "flatten_1 (Flatten)          (None, 86528)             0         \n",
      "_________________________________________________________________\n",
      "dense_1 (Dense)              (None, 64)                5537856   \n",
      "_________________________________________________________________\n",
      "dropout_4 (Dropout)          (None, 64)                0         \n",
      "_________________________________________________________________\n",
      "dense_2 (Dense)              (None, 1)                 65        \n",
      "=================================================================\n",
      "Total params: 5,668,097\n",
      "Trainable params: 5,668,097\n",
      "Non-trainable params: 0\n",
      "_________________________________________________________________\n"
     ]
    }
   ],
   "source": [
    "model.summary()"
   ]
  },
  {
   "cell_type": "code",
   "execution_count": 4,
   "metadata": {},
   "outputs": [
    {
     "name": "stdout",
     "output_type": "stream",
     "text": [
      "Found 980 images belonging to 2 classes.\n",
      "Found 79 images belonging to 2 classes.\n",
      "Epoch 1/20\n",
      "24/24 [==============================] - 166s 7s/step - loss: 0.7968 - accuracy: 0.6138 - val_loss: 0.5387 - val_accuracy: 0.9279\n",
      "Epoch 2/20\n",
      "24/24 [==============================] - 161s 7s/step - loss: 0.3371 - accuracy: 0.8581 - val_loss: 0.0893 - val_accuracy: 0.9415\n",
      "Epoch 3/20\n",
      "24/24 [==============================] - 153s 6s/step - loss: 0.2163 - accuracy: 0.9206 - val_loss: 0.2835 - val_accuracy: 0.9854\n",
      "Epoch 4/20\n",
      "24/24 [==============================] - 159s 7s/step - loss: 0.1831 - accuracy: 0.9431 - val_loss: 0.1397 - val_accuracy: 0.9640\n",
      "Epoch 5/20\n",
      "24/24 [==============================] - 155s 6s/step - loss: 0.1538 - accuracy: 0.9577 - val_loss: 0.1786 - val_accuracy: 0.9659\n",
      "Epoch 6/20\n",
      "24/24 [==============================] - 172s 7s/step - loss: 0.1606 - accuracy: 0.9431 - val_loss: 0.0888 - val_accuracy: 0.9610\n",
      "Epoch 7/20\n",
      "24/24 [==============================] - 156s 7s/step - loss: 0.1848 - accuracy: 0.9362 - val_loss: 0.0742 - val_accuracy: 0.9730\n",
      "Epoch 8/20\n",
      "24/24 [==============================] - 154s 6s/step - loss: 0.1154 - accuracy: 0.9590 - val_loss: 0.0387 - val_accuracy: 0.9805\n",
      "Epoch 9/20\n",
      "24/24 [==============================] - 149s 6s/step - loss: 0.1415 - accuracy: 0.9537 - val_loss: 0.2365 - val_accuracy: 0.9610\n",
      "Epoch 10/20\n",
      "24/24 [==============================] - 164s 7s/step - loss: 0.1278 - accuracy: 0.9603 - val_loss: 0.0201 - val_accuracy: 0.9865\n",
      "Epoch 11/20\n",
      "24/24 [==============================] - 159s 7s/step - loss: 0.1035 - accuracy: 0.9661 - val_loss: 0.0282 - val_accuracy: 0.9756\n",
      "Epoch 12/20\n",
      "24/24 [==============================] - 151s 6s/step - loss: 0.1605 - accuracy: 0.9431 - val_loss: 0.0466 - val_accuracy: 0.9854\n",
      "Epoch 13/20\n",
      "24/24 [==============================] - 153s 6s/step - loss: 0.1148 - accuracy: 0.9603 - val_loss: 0.0565 - val_accuracy: 0.9730\n",
      "Epoch 14/20\n",
      "24/24 [==============================] - 156s 7s/step - loss: 0.1193 - accuracy: 0.9616 - val_loss: 0.0279 - val_accuracy: 0.9902\n",
      "Epoch 15/20\n",
      "24/24 [==============================] - 163s 7s/step - loss: 0.0953 - accuracy: 0.9740 - val_loss: 0.0488 - val_accuracy: 0.9756\n",
      "Epoch 16/20\n",
      "24/24 [==============================] - 155s 6s/step - loss: 0.1105 - accuracy: 0.9683 - val_loss: 0.0847 - val_accuracy: 0.9865\n",
      "Epoch 17/20\n",
      "24/24 [==============================] - 154s 6s/step - loss: 0.1240 - accuracy: 0.9603 - val_loss: 0.0499 - val_accuracy: 0.9659\n",
      "Epoch 18/20\n",
      "24/24 [==============================] - 154s 6s/step - loss: 0.1524 - accuracy: 0.9427 - val_loss: 0.1531 - val_accuracy: 0.9854\n",
      "Epoch 19/20\n",
      "24/24 [==============================] - 162s 7s/step - loss: 0.1202 - accuracy: 0.9530 - val_loss: 0.0951 - val_accuracy: 0.9459\n",
      "Epoch 20/20\n",
      "24/24 [==============================] - 156s 7s/step - loss: 0.1224 - accuracy: 0.9563 - val_loss: 0.0606 - val_accuracy: 0.9854\n"
     ]
    },
    {
     "data": {
      "text/plain": [
       "<keras.callbacks.callbacks.History at 0x7f5024690f50>"
      ]
     },
     "execution_count": 4,
     "metadata": {},
     "output_type": "execute_result"
    }
   ],
   "source": [
    "train_datagen = image.ImageDataGenerator(rescale=1./255, shear_range=0.2, zoom_range=0.2, horizontal_flip=True)\n",
    "\n",
    "test_datagen = image.ImageDataGenerator(rescale=1./255)\n",
    "\n",
    "train_data_path='../input/pa-xray-lungs-covid19/PersonalDataset/Train'\n",
    "train_generator = train_datagen.flow_from_directory(train_data_path ,target_size=(224, 224),batch_size=32,class_mode='binary')\n",
    "\n",
    "val_data='../input/pa-xray-lungs-covid19/PersonalDataset/Val'\n",
    "validation_generator = test_datagen.flow_from_directory(val_data,target_size=(224, 224),batch_size=32, class_mode='binary')\n",
    "\n",
    "model.fit( train_generator,steps_per_epoch=24,epochs=20,validation_data=validation_generator,validation_steps=8)\n",
    "\n",
    "#My previous model.fit( train_generator,steps_per_epoch=16,epochs=10,validation_data=validation_generator,validation_steps=8)"
   ]
  },
  {
   "cell_type": "code",
   "execution_count": 5,
   "metadata": {},
   "outputs": [
    {
     "data": {
      "text/plain": [
       "{'Covid-19': 0, 'Normal': 1}"
      ]
     },
     "execution_count": 5,
     "metadata": {},
     "output_type": "execute_result"
    }
   ],
   "source": [
    "#To find class indices\n",
    "train_generator.class_indices"
   ]
  },
  {
   "cell_type": "code",
   "execution_count": 6,
   "metadata": {},
   "outputs": [],
   "source": [
    "model.save_weights('accurate2.h5')"
   ]
  },
  {
   "cell_type": "code",
   "execution_count": 14,
   "metadata": {},
   "outputs": [
    {
     "name": "stdout",
     "output_type": "stream",
     "text": [
      "[[0.]]\n",
      "COVID-19 Positive\n"
     ]
    }
   ],
   "source": [
    "img_pred=image.load_img('../input/a-sample-photo/coronavirus-cxr-sarscov2-covid19-clinical-original.jpg', target_size=(224,224))\n",
    "img_pred=image.img_to_array(img_pred)\n",
    "img_pred=np.expand_dims(img_pred,axis=0)\n",
    "\n",
    "result=model.predict(img_pred)\n",
    "print(result)\n",
    "if result[0][0]==1:\n",
    "    print(\"COVID-19 Negative\")\n",
    "else:\n",
    "    print(\"COVID-19 Positive\")\n",
    "    "
   ]
  },
  {
   "cell_type": "code",
   "execution_count": null,
   "metadata": {},
   "outputs": [],
   "source": []
  }
 ],
 "metadata": {
  "kernelspec": {
   "display_name": "Python 3",
   "language": "python",
   "name": "python3"
  },
  "language_info": {
   "codemirror_mode": {
    "name": "ipython",
    "version": 3
   },
   "file_extension": ".py",
   "mimetype": "text/x-python",
   "name": "python",
   "nbconvert_exporter": "python",
   "pygments_lexer": "ipython3",
   "version": "3.7.6"
  }
 },
 "nbformat": 4,
 "nbformat_minor": 4
}
